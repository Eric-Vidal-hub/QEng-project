{
 "cells": [
  {
   "cell_type": "markdown",
   "metadata": {},
   "source": [
    "# Quantum Algorithms Practical Session 1  - Starting with Qiskit\n",
    "\n",
    "---\n",
    "\n",
    "\n",
    "\n",
    "In this practical session you will learn how to do and run your first quantum computation with Qiskit\n",
    "\n",
    "<table style=\"background: white;\">\n",
    "    <tr style=\"background: white;\">\n",
    "        <td> <img src='img/qiskit.png'  width=\"440px\" />    \n",
    "    </tr>\n",
    "</table>\n",
    "\n",
    "Qiskit is an open-source framework for quantum computing​ based on Python. It allows to generate quantum circuits, run them on quantum simulator and/or on the IBM Quantum computers.\n",
    "\n",
    "Part of the commands introduced in this session are borrowed from the Ep 3 of the video serie Coding with Qiskit: [Qiskit Season 1 Ep 3](https://www.youtube.com/watch?v=RrUTwq5jKM4}), do not hesitate to watch the videos as well."
   ]
  },
  {
   "cell_type": "markdown",
   "metadata": {},
   "source": [
    "\n",
    "---\n",
    "\n",
    "## Import Qiskit\n",
    "One first need to import Qiskit to be able to use the qiskit commands with Python\n",
    "\n",
    "```Python\n",
    "from qiskit import* \n",
    "```\n",
    "\n",
    "   "
   ]
  },
  {
   "cell_type": "code",
   "execution_count": 1,
   "metadata": {},
   "outputs": [],
   "source": [
    "from qiskit import*"
   ]
  },
  {
   "cell_type": "markdown",
   "metadata": {},
   "source": [
    "A quantum computation is often presented in the circuit formalism\n",
    "\n",
    "<table style=\"background: white;\">\n",
    "    <tr style=\"background: white;\">\n",
    "        <td> <img src='img/circuit.png'  width=\"440px\" />    \n",
    "    </tr>\n",
    "</table>\n",
    "\n",
    "\n",
    "\n",
    "### Create a circuit\n",
    "Thus the first thing to do is to create a circuit that will be made of quatum register (the wires that manipulates qubits) and classical registers (the wire where the values of the measurement will be recorded).\n",
    "\n",
    "To create a circuit we need to specify the number of quantum registers and classical registers and create the cirtuit. Let us start with a one qubit circuit:\n",
    "\n",
    "```Python\n",
    "qr=QuantumRegister(1)\n",
    "cr=ClassicalRegister(1)\n",
    "circuit=QuantumCircuit(qr,cr)\n",
    "```"
   ]
  },
  {
   "cell_type": "code",
   "execution_count": 2,
   "metadata": {},
   "outputs": [],
   "source": [
    "qr=QuantumRegister(1)\n",
    "cr=ClassicalRegister(1)\n",
    "circuit=QuantumCircuit(qr,cr)"
   ]
  },
  {
   "cell_type": "markdown",
   "metadata": {},
   "source": [
    "### Vizualisation\n",
    "\n",
    "To see our circuit one can use the following command:\n",
    "```Python\n",
    "%matplotlib inline\n",
    "circuit.draw('mpl')\n",
    "```\n",
    "\n"
   ]
  },
  {
   "cell_type": "code",
   "execution_count": 3,
   "metadata": {},
   "outputs": [
    {
     "data": {
      "image/png": "[encoded data removed]",
      "text/plain": [
       "<Figure size 161.676x200.667 with 1 Axes>"
      ]
     },
     "execution_count": 3,
     "metadata": {},
     "output_type": "execute_result"
    }
   ],
   "source": [
    "circuit.draw('mpl')"
   ]
  },
  {
   "cell_type": "markdown",
   "metadata": {},
   "source": [
    "### Adding gates\n",
    "\n",
    "We will perform quantum operation on the qubit defined by the quantum register 0, i.e. qr[0]. Quantum operations are implemented by quantum gates, i.e. unitary matrices acting on the quantum state. Here are a couple of quantum gates implemented in Qiskit: The Hadamard matrix, the NOT gate, the Z-gate\n",
    "\n",
    "$$H=\\frac{1}{\\sqrt{2}}\\begin{pmatrix}\n",
    "1 & 1\\\\\n",
    "1 & -1\n",
    "\\end{pmatrix},\n",
    "X=\\begin{pmatrix}\n",
    "0 & 1\\\\\n",
    "1 & 0\n",
    "\\end{pmatrix}, Z=\\begin{pmatrix}\n",
    "1 & 0\\\\\n",
    "0 & -1\n",
    "\\end{pmatrix}\n",
    "$$\n",
    "\n",
    "To add a Hadamard gate to the circuit we use the command:\n",
    "\n",
    "```Python\n",
    "circuit.h(qr[0])\n",
    "```\n",
    "Note that qr[0] indicates to which quantum register (so far there is only one), the gate will be added to.\n",
    "You can visualize the result by using again\n",
    "\n",
    "```Python\n",
    "circuit.draw('mpl')\n",
    "```"
   ]
  },
  {
   "cell_type": "code",
   "execution_count": 4,
   "metadata": {},
   "outputs": [
    {
     "data": {
      "image/png": "[encoded data removed]",
      "text/plain": [
       "<Figure size 203.481x200.667 with 1 Axes>"
      ]
     },
     "execution_count": 4,
     "metadata": {},
     "output_type": "execute_result"
    }
   ],
   "source": [
    "circuit.h(qr[0])\n",
    "circuit.draw('mpl')"
   ]
  },
  {
   "cell_type": "markdown",
   "metadata": {},
   "source": [
    "### Adding Measure operators\n",
    "\n",
    "Once we have done as many operation on our circuit one can apply measurement operators. This is achieved by the command\n",
    "```Python\n",
    "circuit.measure(qr,cr)\n",
    "```\n",
    "\n",
    "Here all quantum register will be measured and their results will be recorded in the classical register. You can specify the quantum register to be measured by choosing specific wire (qr[0], qr[1], etc..)"
   ]
  },
  {
   "cell_type": "code",
   "execution_count": 5,
   "metadata": {},
   "outputs": [
    {
     "data": {
      "text/plain": [
       "<qiskit.circuit.instructionset.InstructionSet at 0x1816733bf70>"
      ]
     },
     "execution_count": 5,
     "metadata": {},
     "output_type": "execute_result"
    }
   ],
   "source": [
    "circuit.measure(qr,cr)"
   ]
  },
  {
   "cell_type": "markdown",
   "metadata": {},
   "source": [
    "## Run the circuit\n",
    "\n",
    "Once your circuit is properly generated you can run it on your own computer using the quantum simulator Qasam or run it on a real quantum device through the IBM Experience\n"
   ]
  },
  {
   "cell_type": "markdown",
   "metadata": {},
   "source": [
    "### Run on Qasm (quantum simulator)\n",
    "\n",
    "One first need to import the simulator from Aer. Qiskit Aer is an element of qiskit that provides the simulator\n",
    "\n",
    "```Python\n",
    "simulator=Aer.get_backend('qasm_simulator')\n",
    "```\n",
    "\n",
    "Then to execute and get the result of this computation, one need the execute and result  commands\n",
    "\n",
    "```Python\n",
    "result=execute(circuit,backend = simulator,shots=1024).result()\n",
    "counts=result.get_counts()\n",
    "```\n",
    "\n",
    "It is then possible to visualize the outcomes of the calculation by importing the plot_histogram visualization tool.\n",
    "\n",
    "```Python\n",
    "from qiskit.tools.visualization import plot_histogram\n",
    "plot_histogram(counts)\n",
    "```"
   ]
  },
  {
   "cell_type": "code",
   "execution_count": 6,
   "metadata": {},
   "outputs": [
    {
     "data": {
      "image/png": "[encoded data removed]",
      "text/plain": [
       "<Figure size 700x500 with 1 Axes>"
      ]
     },
     "execution_count": 6,
     "metadata": {},
     "output_type": "execute_result"
    }
   ],
   "source": [
    "simulator=Aer.get_backend('qasm_simulator')\n",
    "result=execute(circuit,backend = simulator,shots=1024).result()\n",
    "counts=result.get_counts()\n",
    "\n",
    "from qiskit.tools.visualization import plot_histogram\n",
    "plot_histogram(counts)"
   ]
  },
  {
   "cell_type": "markdown",
   "metadata": {},
   "source": [
    "You can also gets the result by just printing the outcomes of the calculation\n",
    "```Python\n",
    "print(counts)\n",
    "```"
   ]
  },
  {
   "cell_type": "code",
   "execution_count": 7,
   "metadata": {},
   "outputs": [
    {
     "name": "stdout",
     "output_type": "stream",
     "text": [
      "{'0': 505, '1': 519}\n"
     ]
    }
   ],
   "source": [
    "print(counts)"
   ]
  },
  {
   "cell_type": "markdown",
   "metadata": {},
   "source": [
    "###  Run on the IBM Quantum Computer\n",
    "\n",
    "To run your circuit on a real quantum device you should first load your IBM account\n",
    "```Python\n",
    "IBMQ.load_account()\n",
    "provider=IBMQ.get_provider('ibm-q')\n",
    "qcomputer=provider.get_backend('ibm_brisbane')\n",
    "```\n",
    "Note that the IBM program proposes several quantum machine including\n",
    "\n",
    "'ibm_hanoi'\n",
    "'ibmq_mumbai'\n",
    "'ibmq_sherbrooke'\n",
    "\n",
    "Check directly on the IBM Quantum Experience the different type of machine you may have access to.\n",
    "\n",
    "Now one can execute the program with the same execute command as we did with the simulator\n",
    "\n",
    "```Python\n",
    "job=execute(circuit,backend=qcomputer)\n",
    "```\n",
    "\n",
    "Because there may be waiting time for the circuit to be run on a the real quantum device you can monitor the execution of the program with the following command\n",
    "\n",
    "```Python\n",
    "from qiskit.tools.monitor import job_monitor\n",
    "job_monitor(job)\n",
    "```\n",
    "\n",
    "Once the circuit has been executed you get the result with the command result\n",
    "\n",
    "```Python\n",
    "result=job.result()\n",
    "plot_histogram(result.get_counts(circuit))\n",
    "```"
   ]
  },
  {
   "cell_type": "code",
   "execution_count": 8,
   "metadata": {},
   "outputs": [
    {
     "name": "stderr",
     "output_type": "stream",
     "text": [
      "C:\\Users\\propietario\\AppData\\Local\\Temp\\ipykernel_9688\\2744985676.py:1: DeprecationWarning: The package qiskit.providers.ibmq is being deprecated. Please see https://ibm.biz/provider_migration_guide to get instructions on how to migrate to qiskit-ibm-provider (https://github.com/Qiskit/qiskit-ibm-provider) and qiskit-ibm-runtime (https://github.com/Qiskit/qiskit-ibm-runtime).\n",
      "  IBMQ.load_account()\n",
      "C:\\Users\\propietario\\AppData\\Local\\Temp\\ipykernel_9688\\2744985676.py:1: DeprecationWarning: The qiskit.IBMQ entrypoint and the qiskit-ibmq-provider package (accessible from 'qiskit.providers.ibmq`) are deprecated and will be removed in a future release. Instead you should use the qiskit-ibm-provider package which is accessible from 'qiskit_ibm_provider'. You can install it with 'pip install qiskit_ibm_provider'. Just replace 'qiskit.IBMQ' with 'qiskit_ibm_provider.IBMProvider'\n",
      "  IBMQ.load_account()\n"
     ]
    },
    {
     "ename": "IBMQAccountCredentialsNotFound",
     "evalue": "'No IBM Quantum Experience credentials found.'",
     "output_type": "error",
     "traceback": [
      "\u001b[1;31m---------------------------------------------------------------------------\u001b[0m",
      "\u001b[1;31mIBMQAccountCredentialsNotFound\u001b[0m            Traceback (most recent call last)",
      "Cell \u001b[1;32mIn[8], line 1\u001b[0m\n\u001b[1;32m----> 1\u001b[0m \u001b[43mIBMQ\u001b[49m\u001b[38;5;241;43m.\u001b[39;49m\u001b[43mload_account\u001b[49m\u001b[43m(\u001b[49m\u001b[43m)\u001b[49m\n\u001b[0;32m      2\u001b[0m provider\u001b[38;5;241m=\u001b[39mIBMQ\u001b[38;5;241m.\u001b[39mget_provider(\u001b[38;5;124m'\u001b[39m\u001b[38;5;124mibm-q\u001b[39m\u001b[38;5;124m'\u001b[39m)\n\u001b[0;32m      3\u001b[0m qcomputer\u001b[38;5;241m=\u001b[39mprovider\u001b[38;5;241m.\u001b[39mget_backend(\u001b[38;5;124m'\u001b[39m\u001b[38;5;124mibm_brisbane\u001b[39m\u001b[38;5;124m'\u001b[39m)\n",
      "File \u001b[1;32mc:\\Users\\propietario\\AppData\\Local\\Programs\\Python\\Python310\\lib\\site-packages\\qiskit\\providers\\ibmq\\ibmqfactory.py:167\u001b[0m, in \u001b[0;36mIBMQFactory.load_account\u001b[1;34m(self)\u001b[0m\n\u001b[0;32m    164\u001b[0m credentials_list \u001b[38;5;241m=\u001b[39m \u001b[38;5;28mlist\u001b[39m(stored_credentials\u001b[38;5;241m.\u001b[39mvalues())\n\u001b[0;32m    166\u001b[0m \u001b[38;5;28;01mif\u001b[39;00m \u001b[38;5;129;01mnot\u001b[39;00m credentials_list:\n\u001b[1;32m--> 167\u001b[0m     \u001b[38;5;28;01mraise\u001b[39;00m IBMQAccountCredentialsNotFound(\n\u001b[0;32m    168\u001b[0m         \u001b[38;5;124m'\u001b[39m\u001b[38;5;124mNo IBM Quantum Experience credentials found.\u001b[39m\u001b[38;5;124m'\u001b[39m)\n\u001b[0;32m    170\u001b[0m \u001b[38;5;28;01mif\u001b[39;00m \u001b[38;5;28mlen\u001b[39m(credentials_list) \u001b[38;5;241m>\u001b[39m \u001b[38;5;241m1\u001b[39m:\n\u001b[0;32m    171\u001b[0m     \u001b[38;5;28;01mraise\u001b[39;00m IBMQAccountMultipleCredentialsFound(\n\u001b[0;32m    172\u001b[0m         \u001b[38;5;124m'\u001b[39m\u001b[38;5;124mMultiple IBM Quantum Experience credentials found. \u001b[39m\u001b[38;5;124m'\u001b[39m \u001b[38;5;241m+\u001b[39m UPDATE_ACCOUNT_TEXT)\n",
      "\u001b[1;31mIBMQAccountCredentialsNotFound\u001b[0m: 'No IBM Quantum Experience credentials found.'"
     ]
    }
   ],
   "source": [
    "IBMQ.load_account()\n",
    "provider=IBMQ.get_provider('ibm-q')\n",
    "qcomputer=provider.get_backend('ibm_brisbane')\n",
    "job=execute(circuit,backend=qcomputer)\n",
    "from qiskit.tools.monitor import job_monitor\n",
    "job_monitor(job)\n",
    "result=job.result()\n",
    "plot_histogram(result.get_counts(circuit))\n"
   ]
  },
  {
   "cell_type": "markdown",
   "metadata": {},
   "source": [
    "\n",
    "## Two qubit circuit and entanglement\n",
    "\n",
    "We have worked with a very simple circuit based on only one qubit manipulation. When one works with several qubit one can apply gates acting on several qubit. A very important gate is the CNOT gate or Controlled NOT gate. When apply on two qubit registers, the gate apply a NOT on the second register if the state of the first qubit is $|1>$.\n",
    "\n",
    "The matrix of this 2-qubit gate is in the standard basis given by\n",
    "$$CNOT=\\begin{pmatrix}\n",
    "1 & 0 &0 &0 \\\\\n",
    "0 & 1 & 0 & 0\\\\\n",
    "0 & 0 & 0  & 1\\\\\n",
    "0 & 0 & 1  & 0\n",
    "\\end{pmatrix}$$\n",
    "\n",
    "The symbol used for this gate is \n",
    "<table style=\"background: white;\">\n",
    "    <tr style=\"background: white;\">\n",
    "        <td> <img src='img/cnot.png'  width=\"150px\" />    \n",
    "    </tr>\n",
    "</table>\n",
    "\n",
    "The qiskit command to apply a CNOT gate should specify first the control qubit and then the target qubit:\n",
    "\n",
    "```Python\n",
    "circuit.cx(qr[0],qr[1])\n",
    "```\n",
    "\n",
    "Create the following circuit with Qiskit   \n",
    "\n",
    "<table style=\"background: white;\">\n",
    "    <tr style=\"background: white;\">\n",
    "        <td> <img src='img/epr.png'  width=\"440px\" />    \n",
    "    </tr>\n",
    "</table>\n",
    "\n",
    "And measure it in the standard basis with the simulator and a quantum machine."
   ]
  },
  {
   "cell_type": "code",
   "execution_count": null,
   "metadata": {},
   "outputs": [],
   "source": [
    "circuit.cx(qr[0],qr[1])"
   ]
  },
  {
   "cell_type": "code",
   "execution_count": null,
   "metadata": {},
   "outputs": [],
   "source": []
  },
  {
   "cell_type": "code",
   "execution_count": null,
   "metadata": {},
   "outputs": [],
   "source": []
  },
  {
   "cell_type": "code",
   "execution_count": null,
   "metadata": {},
   "outputs": [],
   "source": [
    "\n"
   ]
  },
  {
   "cell_type": "markdown",
   "metadata": {},
   "source": [
    "## Measuring a state in an alternative basis (optional)\n",
    "\n",
    "The command 'measure' only allows to make single qubit measurement in the standard basis $|0>,|1>$, however it is possible to make a measurement in any basis $|u_1>,|u_2>$ by making a rotation before the measurement.\n",
    "\n",
    "Suppose the unitary matrix $U$ is the change of basis from $|u_1>, |u_2>$ to the standard basis $|0>,|1>$. Then applying $U$ and a measurement in the the $Z$-basis is equivalent to making a measurment in the $|u_1>,|u_2>$ basis.\n",
    "\n",
    "For example for a measurement in the $X$-basis of the quantum register $i$ we first apply the rotation given by the Hadamard matrix:\n",
    "```Python\n",
    "circuit.h(qr[i])\n",
    "circuit.measure(qr[i],cr[i])\n",
    "```\n",
    "\n",
    "For measuring in the $Y$-basis ($\\frac{|0>+i|1>}{\\sqrt{2}}, \\frac{|0>-i|1>}{\\sqrt{2}}$ the change of basis is obtained by applying the matrices $S^\\dagger=\\begin{pmatrix}\n",
    "1 & 0\\\\\n",
    "0 & e^{-i\\pi/2}\n",
    "\\end{pmatrix}$ and $H$:\n",
    "\n",
    "```Python\n",
    "circuit.sdg(qr[i])\n",
    "circuit.h(qr[i])\n",
    "circuit.measure\n",
    "```\n"
   ]
  },
  {
   "cell_type": "markdown",
   "metadata": {},
   "source": [
    "Let us illustrate this principle with an example. Consider the state $|\\psi>=\\frac{1}{2}|0>+i\\frac{\\sqrt{3}}{2}|1>\\equiv\\cos(\\pi/3)|0>+e^{i\\pi}\\sin(\\pi/3)|1>$ and suppose we want to measure it in the $X$-basis $(|+>,|->)$.\n",
    "\n",
    "Apply the $H$ matrix and one gets the state $|\\psi'>=\\frac{1+i\\sqrt{3}}{2\\sqrt{2}}|0>+\\frac{1-i\\sqrt{3}}{2\\sqrt{2}}|1>\\equiv \\cos(\\pi/4)|0>+\\sin(\\pi/4)e^{-2\\pi/3}|1>$\n",
    "\n",
    "Use the following code to visualize the effect of the $H$ rotation on $|\\psi>$ and convince yourself that measuring $|\\psi>$ in the $X$ basis is equivalent to measuring $|\\psi'>$ in the standard basis:\n",
    "\n",
    "```Python\n",
    "import numpy as np\n",
    "from qiskit_textbook.widgets import plot_bloch_vector_spherical\n",
    "plot_bloch_vector_spherical([2*np.pi/3,np.pi,1])\n",
    "plot_bloch_vector_spherical([np.pi/2,-2*np.pi/3,1])\n",
    "                  ```"
   ]
  },
  {
   "cell_type": "code",
   "execution_count": null,
   "metadata": {},
   "outputs": [],
   "source": [
    "circuit.h(qr[i])\n",
    "circuit.measure(qr[i],cr[i])\n",
    "\n",
    "circuit.sdg(qr[i])\n",
    "circuit.h(qr[i])\n",
    "circuit.measure"
   ]
  },
  {
   "cell_type": "code",
   "execution_count": null,
   "metadata": {},
   "outputs": [],
   "source": [
    "import numpy as np\n",
    "from qiskit_textbook.widgets import plot_bloch_vector_spherical\n",
    "plot_bloch_vector_spherical([2*np.pi/3,np.pi,1])\n",
    "plot_bloch_vector_spherical([np.pi/2,-2*np.pi/3,1])"
   ]
  },
  {
   "cell_type": "markdown",
   "metadata": {},
   "source": [
    "## Exercises"
   ]
  },
  {
   "cell_type": "markdown",
   "metadata": {},
   "source": [
    "### Exercise 1 (super dense conding)\n",
    "\n",
    "The super dense coding protocol is a communication protocol that allows to transmit two classical bit by sending only one qubit. It was created in Bennet and Wiesner.\n",
    "The following circuit represents the protocol:\n",
    "\n",
    "<table style=\"background: white;\">\n",
    "    <tr style=\"background: white;\">\n",
    "        <td> <img src='img/superdense.png'  width=\"440px\" />    \n",
    "    </tr>\n",
    "</table>\n",
    "\n",
    "Alice and Bob have each of them one qubit of an entangled EPR states\n",
    "$$|EPR>=\\dfrac{1}{\\sqrt{2}}(|00>+|11>)$$\n",
    "Then if Alice wants to send the two classical bits $(b_1,b_2)$ with $b_1, b_2 \\in\\{0,1\\}$, she first applies $X^{b_2}$ then $Z^{b_1}$ to her qubit and send it to Bob (if $b_i=0$ she applies the identity matrix). Then Bob applies the CNOT gate and the Hadamard gate on the first register and measures the two qubit.\n",
    "\n",
    "Implement the protocol and check that in all four cases, Alice is transmetted two classical bits by only sending one qubit."
   ]
  },
  {
   "cell_type": "code",
   "execution_count": null,
   "metadata": {},
   "outputs": [],
   "source": []
  },
  {
   "cell_type": "markdown",
   "metadata": {},
   "source": [
    "### Exercise 2: Quantum Teleportation\n",
    "\n",
    "The quantum teleportation protocol allows to transfer the information (amplitudes) defining a qubit $|\\psi>$ to another qubit by taking advantage of entanglement.\n",
    "\n",
    "Here is the circuit corresponding to the protocol\n",
    "<table style=\"background: white;\">\n",
    "    <tr style=\"background: white;\">\n",
    "        <td> <img src='img/teleportation2.png'  width=\"440px\" />    \n",
    "    </tr>\n",
    "</table>\n",
    "\n",
    "This protocol insures that the qubit $|q_1>$ on the quantum register $0$ will be in the quantum register $2$ ($|q_3>$) at the end of the protocol.\n",
    "\n",
    "The following video [Coding with Qiskit Season 1 Ep 5](https://www.youtube.com/watch?v=mMwovHK2NrE) could be of some help.\n",
    "\n",
    "1) Prepare the qubit $|q_1>$ such that $|q_1>=|1>$ and check that the measurement of the last qubit gives $1$ with probability $1$.\n",
    "\n",
    "2) Same question with $|q_1>=|+>$. How do you check that the last qubit in in state $|+>$ at the end of the procotol ?\n",
    "\n",
    "3) (more difficult) Can you preparer any state $|q_1>=|\\psi>$ and provide some argument to check that the qubit $|\\psi>$ has been teleported at the end of the procotol ? (you may need to use the $U_3$ gate of qiskit and read the optional section on \"Measurement in an alternative basis\"\n",
    "\n"
   ]
  },
  {
   "cell_type": "code",
   "execution_count": null,
   "metadata": {},
   "outputs": [],
   "source": []
  },
  {
   "cell_type": "markdown",
   "metadata": {},
   "source": [
    "\n"
   ]
  },
  {
   "cell_type": "code",
   "execution_count": null,
   "metadata": {},
   "outputs": [],
   "source": []
  }
 ],
 "metadata": {
  "kernelspec": {
   "display_name": "Python 3 (ipykernel)",
   "language": "python",
   "name": "python3"
  },
  "language_info": {
   "codemirror_mode": {
    "name": "ipython",
    "version": 3
   },
   "file_extension": ".py",
   "mimetype": "text/x-python",
   "name": "python",
   "nbconvert_exporter": "python",
   "pygments_lexer": "ipython3",
   "version": "3.10.10"
  }
 },
 "nbformat": 4,
 "nbformat_minor": 4
}

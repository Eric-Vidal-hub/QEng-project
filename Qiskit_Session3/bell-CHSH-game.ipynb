{
 "cells": [
  {
   "cell_type": "markdown",
   "metadata": {},
   "source": [
    "# Quantum Algorithms Practical Session 3  - Bell's inequalities and the CHSH game\n",
    "\n",
    "---\n",
    "\n",
    "\n",
    "\n",
    "In 2022, the Nobel proce of physcis was awarded to Alain Aspect, John Clauser and Anton Zelinger for obtaining the first experimental violation of Bell's inequalities in 1982\n",
    "\n",
    "<table style=\"background: white;\">\n",
    "    <tr style=\"background: white;\">\n",
    "        <td> <img src='img/aspect.jpeg'  width=\"300px\" />    \n",
    "    </tr>\n",
    "</table>\n",
    "\n",
    "In this practical session we will obtain the violation of Bell's inequalities on the IBM Quantum Experience."
   ]
  },
  {
   "cell_type": "markdown",
   "metadata": {},
   "source": [
    "\n",
    "---\n",
    "## Get ready\n",
    "As usual one first  import Qiskit and the vizualisation tools\n",
    "```Python\n",
    "from qiskit import*\n",
    "%matplotlib inline\n",
    "from qiskit.tools.visualization import plot_histogram\n",
    "```\n",
    "And as well we load the simulator and the IBM account:\n",
    "\n",
    "```Python\n",
    "simulator=Aer.get_backend('qasm_simulator')\n",
    "IBMQ.load_account()\n",
    "provider=IBMQ.get_provider('ibm-q')\n",
    "qcomputer=provider.get_backend('ibmq_lima')\n",
    "from qiskit.tools.monitor import job_monitor\n",
    "\n",
    "```\n",
    "   "
   ]
  },
  {
   "cell_type": "code",
   "execution_count": null,
   "metadata": {},
   "outputs": [],
   "source": [
    "\n"
   ]
  },
  {
   "cell_type": "markdown",
   "metadata": {},
   "source": [
    "## Entanglement\n",
    "\n",
    "Nowadays in quantum information, entanglement is considered as a resource as it allows protocols or algorithms that have no classical counterpart (like in the superdense coding or the teleportation protocol).\n",
    "\n",
    "Create a circtuit that generate the two-qubit entangled states $|EPR\\rangle$\n",
    "\n",
    "$$|EPR\\rangle=\\dfrac{1}{\\sqrt{2}}(|00\\rangle+|11\\rangle)$$"
   ]
  },
  {
   "cell_type": "code",
   "execution_count": null,
   "metadata": {},
   "outputs": [],
   "source": []
  },
  {
   "cell_type": "markdown",
   "metadata": {},
   "source": [
    "At first the existence of entanglement was pointed out by Einstein as a paradox invalidating the foundations of quantum physics (Einstein A, Podolsky B, Rosen N. Physical review. 1935 May 15;47(10):777).\n",
    "\n",
    "Thirty years later John Bell proposed inequalities based on Einstein's assumptions which should be violated by the results of quantum mechanics (Bell JS. Physics Physique Fizika. 1964 Nov 1;1(3):195). \n",
    "\n",
    "These inequalities opened the path to an experimental tests which turned out to confirm the existence of entanglement (Aspect A, Grangier P, Roger G. Physical review letters. 1982 Jul 12;49(2):91)."
   ]
  },
  {
   "cell_type": "markdown",
   "metadata": {},
   "source": [
    "## Bell's inequalities\n",
    "\n",
    "In what follows we propose to test Bell's inequalities on the IBM Quantum Experiement.\n",
    "\n",
    "Suppose you have a two qubit system $|\\psi\\rangle$ Let us denote $AB=A\\otimes B$ the two-qubit operator representing a measurment in the $A$-Basis for the first qubit and the $B$-basis for the second (we also call such operator an observable). We denote by $\\langle AB\\rangle_\\psi=\\langle\\psi|AB|\\psi\\rangle$ the expectation of this specific two qubit measurement.\n",
    "\n",
    "One considers the following Bell's operator:\n",
    "\\begin{equation}\n",
    " C=\\langle AB \\rangle+\\langle AB' \\rangle+\\langle A'B \\rangle-\\langle A'B' \\rangle\n",
    "\\end{equation}\n",
    "where $A,B,A',B'$ are one qubit observables, i.e. hermitian operator with $\\pm 1$ eigenvalues.\n",
    "\n",
    "Explain why if we assume that the outcomes of the measurements $A, B, A', B'$ are deterministic and local (no correlation between the two partites), then $|C|\\leq 2$"
   ]
  },
  {
   "cell_type": "code",
   "execution_count": null,
   "metadata": {},
   "outputs": [],
   "source": []
  },
  {
   "cell_type": "markdown",
   "metadata": {},
   "source": [
    "Suppose $A=Z, A'=X, B=\\dfrac{Z+X}{\\sqrt{2}}$ and $B'=\\dfrac{Z-X}{\\sqrt{2}}$. Create the four quantum circuits corresponding to the four measurements involve in the calculation of $C$.\n",
    "(Hint: for measuring in the $\\dfrac{Z+X}{\\sqrt{2}}$ basis you first consider the rotation matrix that goes from the standard basis $|0\\rangle$, $|1\\rangle$ to the $\\dfrac{Z+X}{\\sqrt{2}}$. This rotation matrix is $$R=\\begin{pmatrix}\n",
    "\\cos(\\pi/8) & -\\sin(\\pi/8)\\\\\n",
    "\\sin(\\pi/8) & \\cos(\\pi/8)\n",
    "\\end{pmatrix}, \\text{ i.e. } \\theta=\\pi/4 \\text{ and } \\phi=0.$$\n",
    "Then the Qiskit gate $U$ should allow you to implement the $R^\\dagger$ gate.)"
   ]
  },
  {
   "cell_type": "code",
   "execution_count": null,
   "metadata": {},
   "outputs": [],
   "source": []
  },
  {
   "cell_type": "markdown",
   "metadata": {},
   "source": [
    "Make the four measurments for $|\\psi\\rangle=\\dfrac{1}{\\sqrt{2}}(|00\\rangle+|11\\rangle)$. Why is it a violation of Bell's inequalities ?\n",
    "\n",
    "What is the theoretical value of $C$ for $|\\psi\\rangle=\\dfrac{1}{\\sqrt{2}}(|00\\rangle+|11\\rangle)$ ?"
   ]
  },
  {
   "cell_type": "code",
   "execution_count": null,
   "metadata": {},
   "outputs": [],
   "source": []
  },
  {
   "cell_type": "markdown",
   "metadata": {},
   "source": [
    "## CHSH game\n",
    "\n",
    "The CHSH game is a reformulation of Bell's inequalities in the context of quantum game.\n",
    "\n",
    "<table style=\"background: white;\">\n",
    "    <tr style=\"background: white;\">\n",
    "        <td> <img src='img/chsh.png'  width=\"300px\" />    \n",
    "    </tr>\n",
    "</table>\n",
    "\n",
    "The CHSH game goes as follow:\n",
    "- Alice and Bob play against the referee Charlie but can't communicate during the game\n",
    "- Charlie send a question $x\\in\\{0,1\\}$ to Alice and $y\\in \\{0,1\\}$ to Bob\n",
    "- Alice send back $a\\in\\{0,1\\}$ to Charlie and Bob send back $b\\in \\{0,1\\}$\n",
    "- They win the game if $a\\oplus b=x.y mod 2$\n",
    "\n",
    "One can prove that classically  Alice and Bob win the game with maximum probability $0.75$. For instance if the questions of the referee are uniformly random Alice and Bob win 3 out of 4 times by always answering $a=0$ and $b=0$.\n",
    "\n",
    "However there is a quantum strategy that allows to win the game with probability $\\cos^2(\\pi/8)\\approx 0.85$:\n",
    "- Alice and Bob share a EPR pair\n",
    "- For $x=0$ Alice performs a $Z$-measurement on her qubit otherwise she performs $X$-measurement she sends back $a$ the result of her measurement\n",
    "- For $y=0$ Bob does a  $\\dfrac{X+Z}{\\sqrt{2}}$-measurement on his qubit otherwise he does a $\\dfrac{Z-X}{\\sqrt{2}}$-measurement. He sends back $b$ the result of his measurement\n",
    "\n",
    "Implement the quantum strategy on qiskit and check that Alice and Bob win the game more often than with a classical strategy."
   ]
  },
  {
   "cell_type": "code",
   "execution_count": null,
   "metadata": {},
   "outputs": [],
   "source": []
  },
  {
   "cell_type": "markdown",
   "metadata": {},
   "source": [
    "\n"
   ]
  },
  {
   "cell_type": "markdown",
   "metadata": {},
   "source": [
    "## Ekert91 key distribution\n",
    "\n",
    "Ekert91 is a protocol that allows Alice and Bob to create a secret key in order to implement the classical one-time pad protocol. The Ekert91 protocols is based on the following idea:\n",
    "- Suppose you have a source that emits EPR states and send one qubit to Alice and one qubit to Bob\n",
    "- Alice and Bob will measure their qubit within some random choice of basis\n",
    "- After the experiments they reveals to each other their choice of basis\n",
    "- the measurement obtained for the same choice of basis will be kept to make their secret key\n",
    "- the measurement where the choice of basis do not match are used to check Bell's inequalities and verify that the source was really entangled (and thus that nobody could guess the outcomes of their measurement)\n",
    "\n",
    "In Ekert's original protocol there are three basis of measurement used for Alice and Bob:\n",
    "- Alice $Z$ basis, $\\dfrac{Z+X}{\\sqrt{2}}$-basis and $X$-basis\n",
    "- Bob $\\dfrac{Z+X}{\\sqrt{2}}$-basis, $X$-basis, $\\dfrac{Z-X}{\\sqrt{2}}$-\n",
    "\n",
    "Implement Ekert91 with Qiskit"
   ]
  },
  {
   "cell_type": "code",
   "execution_count": null,
   "metadata": {},
   "outputs": [],
   "source": []
  }
 ],
 "metadata": {
  "kernelspec": {
   "display_name": "Python 3 (ipykernel)",
   "language": "python",
   "name": "python3"
  },
  "language_info": {
   "codemirror_mode": {
    "name": "ipython",
    "version": 3
   },
   "file_extension": ".py",
   "mimetype": "text/x-python",
   "name": "python",
   "nbconvert_exporter": "python",
   "pygments_lexer": "ipython3",
   "version": "3.9.7"
  }
 },
 "nbformat": 4,
 "nbformat_minor": 4
}

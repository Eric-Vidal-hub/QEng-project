{
 "cells": [
  {
   "cell_type": "markdown",
   "metadata": {},
   "source": [
    "## Qiskit Session 2  - First Quantum Algorithms\n",
    "\n",
    "---\n",
    "\n",
    "\n",
    "\n",
    "In this last practical session you will run on quantum machine your first quantum algorithms by implementing the algorithms seen in class.\n",
    "\n",
    "<table style=\"background: white;\">\n",
    "    <tr style=\"background: white;\">\n",
    "        <td> <img src='img/quantum_computer.jpeg'  width=\"300px\" />    \n",
    "    </tr>\n",
    "</table>"
   ]
  },
  {
   "cell_type": "markdown",
   "metadata": {},
   "source": [
    "\n",
    "---\n",
    "## Get ready\n",
    "As usual one first  import Qiskit and the vizualisation tools\n",
    "```Python\n",
    "from qiskit import*\n",
    "%matplotlib inline\n",
    "from qiskit.tools.visualization import plot_histogram\n",
    "```\n",
    "And as well we load the simulator and the IBM account:\n",
    "\n",
    "```Python\n",
    "simulator=Aer.get_backend('qasm_simulator')\n",
    "IBMQ.load_account()\n",
    "provider=IBMQ.get_provider('ibm-q')\n",
    "qcomputer=provider.get_backend('ibm_brisbane')\n",
    "from qiskit.tools.monitor import job_monitor\n",
    "\n",
    "```\n",
    "   "
   ]
  },
  {
   "cell_type": "code",
   "execution_count": null,
   "metadata": {},
   "outputs": [],
   "source": [
    "\n"
   ]
  },
  {
   "cell_type": "markdown",
   "metadata": {},
   "source": [
    "### Create an oracle\n",
    "\n",
    "We have seen in class that it is always possible to implement a classical function with a quantum computer. Here we are going to implement classical functions usefull to run the Deutsh and Deutsch-Josza algorithm.\n",
    "\n",
    "Consider the following circuit:\n",
    "\n",
    "<table style=\"background: white;\">\n",
    "    <tr style=\"background: white;\">\n",
    "        <td> <img src='img/deutsch_balanced1.svg'  width=\"300px\" />    \n",
    "    </tr>\n",
    "</table>\n",
    "\n",
    "Implement this circuit and check that it corresponds to a unitary gate $U_f$ such that $U_f|x_0x_2x_3>|y>=|x_0x_1x_2>|y\\oplus f(x_0,x_1,x_2)>$ where $f$ is a boolean function that satisfies:\n",
    "\n",
    "\n",
    "|$f(x_0,x_1,x_2)=0$| $f(x_0,x_1,x_2)=1$|\n",
    "|---|---|\n",
    "|$000$ |$111$|\n",
    "|$011$ |$100$|\n",
    "|$101$ |$010$|\n",
    "|$110$ |$001$|"
   ]
  },
  {
   "cell_type": "code",
   "execution_count": null,
   "metadata": {},
   "outputs": [],
   "source": []
  },
  {
   "cell_type": "markdown",
   "metadata": {},
   "source": [
    "Modify the previous circuit to create an other oracle $U_f$ that is defined by\n",
    "\n",
    "|$f(x_0,x_1,x_2)=0$| $f(x_0,x_1,x_2)=1$|\n",
    "|---|---|\n",
    "|$010$ |$101$|\n",
    "|$011$ |$100$|\n",
    "|$111$ |$000$|\n",
    "|$110$ |$001$|"
   ]
  },
  {
   "cell_type": "code",
   "execution_count": null,
   "metadata": {},
   "outputs": [],
   "source": []
  },
  {
   "cell_type": "markdown",
   "metadata": {},
   "source": [
    "What would be an oracle for a constant function $f(x_0,\\dots,x_n)=k$ with $k\\in\\{0,1\\}$ ?"
   ]
  },
  {
   "cell_type": "code",
   "execution_count": null,
   "metadata": {},
   "outputs": [],
   "source": []
  },
  {
   "cell_type": "markdown",
   "metadata": {},
   "source": [
    "## Deutsch-Josza\n",
    "\n",
    "Recall the circuit of the Deutsch-Josza algorithm that generalizes Deutsch algorithm\n",
    "\n",
    "<table style=\"background: white;\">\n",
    "    <tr style=\"background: white;\">\n",
    "        <td> <img src='img/deutsch_steps.png'  width=\"400px\" />    \n",
    "    </tr>\n",
    "</table>\n",
    "\n",
    "Define a constant oracle $U_{f_1}$ and a balanced oracle $U_{f_2}$ of your choice and check on your example the validity of Deutsch-Josza's algorithm."
   ]
  },
  {
   "cell_type": "code",
   "execution_count": 36,
   "metadata": {},
   "outputs": [
    {
     "data": {
      "image/png": "[encoded data removed]",
      "text/plain": [
       "<Figure size 504x360 with 1 Axes>"
      ]
     },
     "execution_count": 36,
     "metadata": {},
     "output_type": "execute_result"
    }
   ],
   "source": []
  },
  {
   "cell_type": "markdown",
   "metadata": {},
   "source": [
    "## Bernstein-Vazirani\n",
    "\n",
    "Bernstein-Vazirani algorithm is an algorithm that solve the following problem:\n",
    "Let $u=u_{n-1}\\dots u_0\\in \\{0,1\\}^n$ an unknown $n$-bits string. Suppose you have a classical function $f:\\{0,1\\}^n\\to \\{0,1\\}$ which calculates $f_u(x)=x.u [2]$ where $x.u$ is the usual inner product between $n$-bits strings, i.e. $x=x_{n-1}\\dots x_0$ and $$x.u=x_0u_0+x_1u_1+\\dots+x_{n-1}u_{n-1}$$\n",
    "\n",
    "The goal of Bernstein-Vazirani's algorithm is to find $u$.\n",
    "\n",
    "Recall that classically you can find $u$ by testing $n$ values $x\\in \\{0,1\\}^n$. Bernstein-Vazirani's algorithm solves the problem by using only once the function $f$."
   ]
  },
  {
   "cell_type": "markdown",
   "metadata": {},
   "source": [
    "### Implementing the function $f_u$\n",
    "\n",
    "Show that the following circuit implements on the function $f_u$ with $u=1101$.\n",
    "\n",
    "<table style=\"background: white;\">\n",
    "    <tr style=\"background: white;\">\n",
    "        <td> <img src='img/vaziraniu.png'  width=\"330px\" />    \n",
    "    </tr>\n",
    "</table>\n",
    "\n",
    "Implement a circuit that corresponds to the function $f_u$ with $u=1010101$.\n"
   ]
  },
  {
   "cell_type": "code",
   "execution_count": null,
   "metadata": {},
   "outputs": [],
   "source": []
  },
  {
   "cell_type": "markdown",
   "metadata": {},
   "source": [
    "Write a Python function that given $u=u_{n-1}\\dots u_0$ will creates the Quantum Circuit implementing the gate $U_{f_u}$. \n",
    "\n",
    "You can use define $u$ as a sting $u='u_{n-1}\\dots u_0'$ and use the Python command: \n",
    "```Python \n",
    "enumerate\n",
    "```"
   ]
  },
  {
   "cell_type": "markdown",
   "metadata": {},
   "source": [
    "\n"
   ]
  },
  {
   "cell_type": "markdown",
   "metadata": {},
   "source": [
    "### Bernstein-Vazirani Circuit\n",
    "\n",
    "Here is the circuit of Benrstein-Vazirani's algorithm that allows you to find $u$ by only computing once the function $f_u$.\n",
    "\n",
    "<table style=\"background: white;\">\n",
    "    <tr style=\"background: white;\">\n",
    "        <td> <img src='img/vazirani.png'  width=\"330px\" />    \n",
    "    </tr>\n",
    "</table>\n",
    "\n",
    "\n",
    "Implement Bernstein-Vazirani's algorithm such as, the function $f_u$ is defined by the choice of $u=u_{n-1}\\dots u_0$ made by the user and the circuit and measurementsof the circuit are automatically created from the knowledge of $u$.\n",
    "\n",
    "Test your algorithm on the simulator."
   ]
  },
  {
   "cell_type": "code",
   "execution_count": null,
   "metadata": {},
   "outputs": [],
   "source": []
  },
  {
   "cell_type": "markdown",
   "metadata": {},
   "source": [
    "Test your code on a real quantum device."
   ]
  },
  {
   "cell_type": "code",
   "execution_count": null,
   "metadata": {},
   "outputs": [],
   "source": []
  },
  {
   "cell_type": "markdown",
   "metadata": {},
   "source": [
    "## Grover's algorithm\n",
    "\n",
    "Grover's algorithm is based on two gates, the oracle and the diffusion gate.\n",
    "We will implement Grover's algorithm for a three-qubit system.\n",
    "\n",
    "\n",
    "### The oracle\n",
    "\n",
    "Consider the following circuit:\n",
    "\n",
    "\n",
    "<table style=\"background: white;\">\n",
    "    <tr style=\"background: white;\">\n",
    "        <td> <img src='img/oracle_3qbt.png'  width=\"330px\" />    \n",
    "    </tr>\n",
    "</table>\n",
    "\n",
    "Check that this oracle signs the element $|111>$.\n",
    "How can you modify if so it signs the element $|101>$ ?"
   ]
  },
  {
   "cell_type": "code",
   "execution_count": 40,
   "metadata": {},
   "outputs": [
    {
     "data": {
      "image/png": "[encoded data removed]",
      "text/plain": [
       "<Figure size 267.197x264.88 with 1 Axes>"
      ]
     },
     "execution_count": 40,
     "metadata": {},
     "output_type": "execute_result"
    }
   ],
   "source": []
  },
  {
   "cell_type": "markdown",
   "metadata": {},
   "source": [
    "### The diffusion operator\n",
    "\n",
    "Check that the following circuit corresponds to a CCZ gate i.e. a Control-control $Z$ gate:\n",
    "\n",
    "<table style=\"background: white;\">\n",
    "    <tr style=\"background: white;\">\n",
    "        <td> <img src='img/CCZ.png'  width=\"330px\" />    \n",
    "    </tr>\n",
    "</table>\n",
    "\n",
    "The corresponding matrix is \n",
    "\n",
    "$$CCZ=\\begin{pmatrix}\n",
    "1 & 0 & 0 & 0 & 0 & 0 & 0 &0\\\\\n",
    "0 & 1 & 0 & 0 & 0 & 0 & 0 &0\\\\\n",
    "0 & 0 & 1 & 0 & 0 & 0 & 0 &0\\\\\n",
    "0 & 0 & 0 & 1 & 0 & 0 & 0 &0\\\\\n",
    "0 & 0 & 0 & 0 & 1 & 0 & 0 &0\\\\\n",
    "0 & 0 & 0 & 0 & 0 & 1 & 0 &0\\\\\n",
    "0 & 0 & 0 & 0 & 0 & 0 & 1 &0\\\\\n",
    "0 & 0 & 0 & 0 & 0 & 0 & 0 &-1\\\\\n",
    "\\end{pmatrix}$$\n",
    "\n",
    "And thus the circuit\n",
    "\n",
    "<table style=\"background: white;\">\n",
    "    <tr style=\"background: white;\">\n",
    "        <td> <img src='img/diffusion1.png'  width=\"330px\" />    \n",
    "    </tr>\n",
    "</table>\n",
    "\n",
    "corresponds to $-(2|0><0|-I_8)$, i.e.\n",
    "\n",
    "$$CCZ=-\\begin{pmatrix}\n",
    "1 & 0 & 0 & 0 & 0 & 0 & 0 &0\\\\\n",
    "0 & -1 & 0 & 0 & 0 & 0 & 0 &0\\\\\n",
    "0 & 0 & -1 & 0 & 0 & 0 & 0 &0\\\\\n",
    "0 & 0 & 0 & -1 & 0 & 0 & 0 &0\\\\\n",
    "0 & 0 & 0 & 0 & -1 & 0 & 0 &0\\\\\n",
    "0 & 0 & 0 & 0 & 0 & -1 & 0 &0\\\\\n",
    "0 & 0 & 0 & 0 & 0 & 0 & -1 &0\\\\\n",
    "0 & 0 & 0 & 0 & 0 & 0 & 0 &-1\\\\\n",
    "\\end{pmatrix}$$\n",
    "\n",
    "Conclude that the diffusion operator, as explained in the lecture, is given by:\n",
    "\n",
    "<table style=\"background: white;\">\n",
    "    <tr style=\"background: white;\">\n",
    "        <td> <img src='img/diffusion.png'  width=\"330px\" />    \n",
    "    </tr>\n",
    "</table>\n",
    "\n"
   ]
  },
  {
   "cell_type": "code",
   "execution_count": 41,
   "metadata": {},
   "outputs": [
    {
     "data": {
      "image/png": "[encoded data removed]",
      "text/plain": [
       "<Figure size 748.797x264.88 with 1 Axes>"
      ]
     },
     "execution_count": 41,
     "metadata": {},
     "output_type": "execute_result"
    }
   ],
   "source": []
  },
  {
   "cell_type": "markdown",
   "metadata": {},
   "source": [
    "### Implement Grover algorithm\n",
    "\n",
    "Based on the previous question, implement grover's algorithm for $x_0=|101>$ and run it on the simulator and the IBM Quantum Experience"
   ]
  },
  {
   "cell_type": "code",
   "execution_count": null,
   "metadata": {},
   "outputs": [],
   "source": [
    "\n"
   ]
  },
  {
   "cell_type": "markdown",
   "metadata": {},
   "source": [
    "## Exercises\n",
    "\n",
    "### Exercise 1\n",
    "\n",
    "Write a Qiksit Script that implement Grover's algorithm for a given 3 qubit states $|x_2x_1x_0>$.\n",
    "\n",
    "### Exercise 2\n",
    "\n",
    "How would you implement Grover's algorithm for 4 qubits ?\n"
   ]
  },
  {
   "cell_type": "code",
   "execution_count": null,
   "metadata": {},
   "outputs": [],
   "source": []
  }
 ],
 "metadata": {
  "kernelspec": {
   "display_name": "Python 3 (ipykernel)",
   "language": "python",
   "name": "python3"
  },
  "language_info": {
   "codemirror_mode": {
    "name": "ipython",
    "version": 3
   },
   "file_extension": ".py",
   "mimetype": "text/x-python",
   "name": "python",
   "nbconvert_exporter": "python",
   "pygments_lexer": "ipython3",
   "version": "3.9.7"
  }
 },
 "nbformat": 4,
 "nbformat_minor": 4
}

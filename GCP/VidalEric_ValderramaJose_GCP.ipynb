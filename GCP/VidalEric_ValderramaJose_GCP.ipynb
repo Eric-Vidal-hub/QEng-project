{
 "cells": [
  {
   "cell_type": "markdown",
   "metadata": {},
   "source": [
    "# **Authors**: José Antonio Valderrama & Eric Vidal\n",
    "\n",
    "# Solving the Graph Coloring Problem (GCP) with Grover's algortihm and Quantum Approximate Optimization Algorithm (QAOA)\n",
    "\n",
    "## Problem definition\n",
    "\n",
    "In the concerning research, we propose a **comparison between Grover's algorithm** (which has already been presented in the workshop) and **QAOA** applied to the **vertex coloring problem** which is an NP-complete problem contained in the class of GCP.\n",
    "This study is following the lines of one of the author's work [Vidal](https://diposit.ub.edu/dspace/handle/2445/201868) done in 2023 where a comparison between the QAOA and AQO is performed using `Qibo` instead of `Qiskit`.\n",
    "Graph coloring has been widely studied because it is a subfield highly important in the graph theory field, inspired by the **Four Color Problem**. \n",
    "Plus, it has many applications and relationships within real-life problems, such as scheduling problems including assigning frequencies for radio stations or for a mobile phone network, job shop scheduling, resource allocation, or flight-gate assignments.\n",
    "\n",
    "\n",
    "## Introduction to QAOA\n",
    "\n",
    "The recent improvement of quantum computation hardware has led to the **noisy intermediate-scale quantum (NISQ) era**. \n",
    "In this context, an increasing number of variational quantum algorithms (**VQAs**) have arisen with the target of solving combinatorial optimization problems (**COPs**) and achieving quantum advantage.\n",
    "The main idea of VQAs is to run a _*parameterized quantum circuit*_ in a model gate-based quantum computer and train these parameters with the aid of *_classical optimizers_*.\n",
    "A promising one is the **QAOA**, introduced by [Farhi et al.](https://arxiv.org/abs/1411.4028) in 2014, which is inspired by a *_Trotterized adiabatic transformation_* for the adiabatic evolution applied to the gate-based model. \n",
    "\n",
    "![QAOA explanation](img_VQA_QAOA.png \"QAOA in VQA\")\n",
    "\n",
    "It is worth mentioning that **quantum annealing** (QA), as well as VQAs, were conceived as a heuristic approach to solve COPs, especially the ones that can be expressed as **binary optimization problems** with Boolean variables $x_i \\in \\{0, \\; 1\\}$.\n",
    "Binary optimization involves a wide range of important problems, e. g., social network analysis, portfolio optimization in finance, traffic management and scheduling in transportation, lead optimization in pharmaceutical drug discovery $\\ldots$\n",
    "\n",
    "Taking into account the hardware challange to interact with many qubits, it is mainly aimed to solve Quadratic Unconstrained Binary Optimization **(QUBO) problems** with *_2-local interactions_*. Its **cost function** is defined as,\n",
    "$$\n",
    "    H_{QUBO} (\\vec{x}) = \\sum_i h_i x_i + \\sum_{ij} Q_{ij} x_i x_j .\n",
    "$$\n",
    "\n",
    "However, it could work for solving higher order problems in opposition to the Adiabatic Quantum Optimization (AQO) algorithm.\n",
    "If the hardware is improved to perform k-local interactions, with $k \\geq 3$, high-order polynomial unconstrained binary optimization problems (HOBO) would aim to solve polynomial unconstrained binary optimization (PUBO) problems.\n",
    "\n",
    "Those might seem strong restrictions, however, lots of problems of interest not only for industry but for academia as well, fall into this category.\n",
    "The Karp's 21 NP-complete problems and many NP-hard problems have a close connection to Ising spin models that can be formulated as QUBO problems.\n",
    "A good example of that is the work done by [Andrew Lucas](https://arxiv.org/abs/1302.5843) where he proposes Ising spin Hamiltonians for these kind of problems.\n",
    "\n",
    "\n",
    "### COP encoding on a Quantum Computer\n",
    "\n",
    "When we are dealing with generic COPs of size $N$ usually we have to either **maximize** or **minimize** a *_cost function_* (also known as objective or loss function), $f: Z(N) \\xrightarrow{} \\mathbb{R}$, where $Z(N)$ is the set of bit strings with length $N$,\n",
    "$$\n",
    "    \\min_{z \\in S} f(z), \\quad S \\subseteq Z(N),\n",
    "$$\n",
    "where $S$ is the set of feasible bit strings, and we define, $S_{min}$, as the subset of all solutions minimizing $f$. If $S = Z(N)$, it is said that the problem is **unconstrained**.\n",
    "\n",
    "To work with a quantum computer we have to express each *_bit string_*, $z$, in the *_computational basis_*, $\\ket{z}$ of the N-qubit space, $\\mathcal{H} = \\mathbb{C}^{2^N}$. \n",
    "This means that each bit, $z_i = 0, \\; 1$ of the bit string $z$ is replaced by a spin-1/2 qubit labeled by $\\ket{z_i}$, in a way that $\\ket{z}$ is the Kronecker product of all the qubit states.\n",
    "These are eigenstates of the $z$ component of the i-th spin,\n",
    "$$\n",
    "    \\ket{0} = \\begin{pmatrix} 1 \\\\ 0  \\end{pmatrix}, \\quad \\ket{1} = \\begin{pmatrix} 0 \\\\ 1  \\end{pmatrix}\n",
    "$$\n",
    "so\n",
    "$$\n",
    "    \\frac{1}{2} (1 - \\sigma_z^{(i)}) \\ket{z_i} = z_i \\ket{z_i}\n",
    "$$\n",
    "where $\\sigma_z^{(i)}$ is the corresponding Pauli matrix.\n",
    "Lastly, the **cost Hamiltonian** can be constructed as,\n",
    "$$\n",
    "    C = \\sum_{z \\in Z(N)} f(z) \\ket{z}\\bra{z}.\n",
    "$$\n",
    "Therefore, solving the problem is finding an **optimal solution** in a way that falls to a computational basis state in $S_{min}$ which turns out to be the Hilbert subspace with **minimum eigenvalue**.\n",
    "\n",
    "## QAOA formulation\n",
    "\n",
    "The QAOA is a variational quantum algorithm that iteratively adds $p$ layers of a **pair of parameter dependent unitary operators** to a given initial quantum state. The first unitary, also called **mixer**, depends on an *_initial Hamiltonian_*, $B$,\n",
    "$$\n",
    "    U_B (\\beta) = e^{-i \\beta B}\n",
    "$$\n",
    "with $\\beta \\in [0, \\pi]$, whilst the second one, known as **phase separator**, depends on the *_problem Hamiltonian_*, $C$,\n",
    "$$\n",
    "    U_C (\\gamma) = e^{-i \\gamma C}.\n",
    "$$\n",
    "with $\\gamma \\in [0, 2 \\pi]$.\n",
    "These are executed into a **fixed initial state**, that is usually selected to be the *_superposition of all the elements_* in the *_computational basis_*,\n",
    "$$\n",
    "    \\ket{s} = \\frac{1}{\\sqrt{2^N}} \\sum_{z \\in Z(N)} \\ket{z}\n",
    "$$\n",
    "which is the superposition of all possible solutions (for unconstrained problems).\n",
    "\n",
    "From these unitaries, a parametrized trial state is constructed as,\n",
    "$$ \n",
    "    \\ket{\\vec{\\beta}, \\vec{\\gamma}} = V(\\vec{\\beta}, \\vec{\\gamma}) \\ket{s} = \\left( \\prod_{q=1}^p U_B(\\beta_p) U_C (\\gamma_q) \\right) \\ket{s}.\n",
    "$$\n",
    "\n",
    "The parameters of the trial state are optimized by minimizing the value of the following eqaution, i.e. the **expected value** of the *_cost Hamiltonian_*, with a **classical optimizer**.\n",
    "$$\n",
    "    F_p (\\vec{\\beta}, \\vec{\\gamma}) = \\bra{\\vec{\\beta}, \\vec{\\gamma}} C \\ket{\\vec{\\beta}, \\vec{\\gamma}}.\n",
    "$$\n",
    "Once this process *_converges_* to the **final state**, $\\ket{\\vec{\\beta_{out}}, \\vec{\\gamma_{out}}}$, one can obtain a solution to the problem by *_measuring the state in the computational basis_*. If properly optimized, the **solution improves** with $p$, and in its limit to $\\infty$, it is guaranteed to reach the solution with overlap 1.\n",
    "\n",
    "## Vertex Coloring Problem\n",
    "\n",
    "Solving the vertex coloring problem consists in checking if a considered graph can have its **vertex colored such that each edge is not connecting two vertices with the same color**. It is expressed mathematically in graph theory as the proper mapping $f: V(G) \\xrightarrow{} \\mathbb{N}$ such that,\n",
    "$$\n",
    "    \\forall_{v_i, v_j \\in V(G), i \\neq j} \\exists (e_i, \\; e_j) \\implies f(i) \\neq f(j).\n",
    "$$\n",
    "\n",
    "As an example, solving the problem for a *_fully connected graph_* is trivial, with the number of colors required $n$ being equal to the number of vertices $v$.\n",
    "A much more interesting case is the planar graph because it can be proved that there is always a coloring for $n \\geq 4$.\n",
    "This is known as the **Four Color Theorem** which is one of the problems that originated GCP class and made it emerge as one of the most studied classes of problems in graph theory. \n",
    "Note that, any solution is **degenerate** due to any of its *_permutation of colors_* also being one ($n!$ in total).\n",
    "If a given graph $G$ is using at most $n$ colors it is called a (proper) $n$-coloring.\n",
    "\n",
    "An important feature that characterizes a given graph, $G$, is the *_minimum number of colors needed to meet the vertex coloring problem constraints_*, and it is called the **chromatic number**, $\\chi (G)$.\n",
    "Determining $\\chi (G)$ is an **NP-hard problem** because it means adding a constraint of the number of colors and then the cost function has to be minimized, in contrast with what we will do which is fulfilling the cost function constraints.\n",
    "\n",
    "### QUBO formulation and implementation\n",
    "Consider the **undirected graph**, $G = (V, E)$, and several **colors**, $c$, where the number of vertices and edges is given by $w=|V|$ and $m=|E|$, respectively. Next, define the **binary variable**, $x_{v, i}$, which is 1 if vertex $v$ is *_colored_* with the color $i$, and 0 *_otherwise_*. The total *_number of binary variables_* (**qubits**) is $|V|\\times n$. So, we find the *_total number of binary variables_* (**qubits**), $N = w\\times c$, and the cost function,\n",
    "$$\n",
    "    H = A \\sum_{v=1}^w \\left( 1- \\sum_{i=1}^c x_{v, i}  \\right)^2 + A \\sum_{(uv) \\in E} \\; \\sum_{i=1}^c x_{u, i} x_{v, i},\n",
    "$$\n",
    "whose ground state (with energy 0) encodes the degenerate solutions of the problem. \n",
    "For any other candidate that violates the constraints, its energy is **penalized**.\n",
    "The first term **ensures** that each vertex has only *_one color assigned_* to each vertex, and the second term **penalizes** *_two adjacent vertices_* $x_{v, i}$ and $x_{u, i}$ ($v \\neq u$) *_with the same color_*.\n",
    "\n",
    "The **cost function** is translated to a **quantum Hamiltonian** by **mapping each binary variable,** $x_{v, i}$, to the operator $\\mathcal{\\hat{Z}}_{v, i} = \\frac{\\mathcal{I} - \\sigma^{z}_{v, i}}{2}$,  with $\\sigma^{z}_{v, i}$ being the Pauli-Z operator acting on the $v,i$th qubit in a Hilbert space of $N$ qubits. This transformation has eigenvectors $\\ket{0}$ and $\\ket{1}$ with eigenvalues 0 and 1, respectively, as desired.\n",
    "\n",
    "Finally the initial Hamiltonian for the QAOA is then $B = \\sum_{i=1}^N \\frac{\\mathcal{I}_i - \\sigma^x_i}{2}$, in order to have as a ground and initial state with energy 0 the superposition of all computational basis states, $\\ket{s} = \\frac{1}{\\sqrt{2^N}} \\sum_{z \\in Z(N)} \\ket{z}$, so all the bit strings are examined, because it is an unconstrained problem.\n",
    "\n",
    "![Graphical explanation of GCP](img_GCP.png \"Summary of VCP\")"
   ]
  },
  {
   "cell_type": "markdown",
   "metadata": {},
   "source": [
    "## Graph definition\n",
    "\n",
    "We decide the **number of vertices** (int), **colors** (list of color strings) and **edges** (list of tuples)."
   ]
  },
  {
   "cell_type": "code",
   "execution_count": 1,
   "metadata": {},
   "outputs": [],
   "source": [
    "# Necessary libraries for the initial part of the code\n",
    "import numpy as np\n",
    "import networkx as nx\n",
    "import matplotlib.pyplot as plt\n",
    "\n",
    "# Different examples of graphs\n",
    "\n",
    "# 2 vertices\n",
    "nvertices = 2\n",
    "colors = ['red', 'blue']\n",
    "edges = [(0, 1)]\n",
    "\n",
    "# # 3 vertices\n",
    "# nvertices = 3\n",
    "# colors = ['red', 'blue', 'green']\n",
    "# edges = [(0, 1), (1, 2), (2, 0)]\n",
    "\n",
    "# # 4 vertices\n",
    "# nvertices = 4\n",
    "# colors = ['red', 'blue', 'green', 'yellow']\n",
    "# edges = [(0, 1), (1, 2), (2, 3), (3, 0), (0, 2)]\n",
    "\n",
    "# # Erdos-Renyi graph\n",
    "# nvertices = 6\n",
    "# colors = ['red', 'blue', 'green']\n",
    "# prob = 0.5\n",
    "# edges = nx.erdos_renyi_graph(nvertices, prob).edges()\n",
    "\n",
    "# Necessary variables\n",
    "ncolors = len(colors)\n",
    "nqubits = nvertices * ncolors"
   ]
  },
  {
   "cell_type": "markdown",
   "metadata": {},
   "source": [
    "## Graph Visualization\n",
    "Using the library `networkx` one can plot the graph used."
   ]
  },
  {
   "cell_type": "code",
   "execution_count": 2,
   "metadata": {},
   "outputs": [
    {
     "data": {
      "image/png": "[encoded data removed]",
      "text/plain": [
       "<Figure size 640x480 with 1 Axes>"
      ]
     },
     "metadata": {},
     "output_type": "display_data"
    }
   ],
   "source": [
    "G = nx.Graph()              # Create a graph\n",
    "G.add_edges_from(edges)     # Add edges to the graph\n",
    "# Assign colors to nodes\n",
    "node_colors = [colors[i % ncolors] for i in range(nvertices)]\n",
    "# Plot the graph\n",
    "nx.draw(G, with_labels=False, node_color=node_colors)\n",
    "plt.show()"
   ]
  },
  {
   "cell_type": "markdown",
   "metadata": {},
   "source": [
    "## Brute Force to solve the GCP\n",
    "\n",
    "Using the introduced **cost function**, we are going to check *all the possible combinations*."
   ]
  },
  {
   "cell_type": "code",
   "execution_count": 3,
   "metadata": {},
   "outputs": [
    {
     "name": "stdout",
     "output_type": "stream",
     "text": [
      "0110 is a True solution.\n",
      "\n",
      "1001 is a True solution.\n",
      "\n"
     ]
    }
   ],
   "source": [
    "## INITIAL STATE DEFINITION\n",
    "initial_state = np.ones(2**nqubits) / np.sqrt(2**nqubits)\n",
    "\n",
    "# List to put the number of Ground State Vectors solution\n",
    "ngs = []\n",
    "counter = 0\n",
    "for comp_basis in range(2 ** nqubits):\n",
    "    counter += 1\n",
    "    bitstring = \"{0:0{nbits}b}\".format(comp_basis, nbits=nqubits)\n",
    "    bits = list(map(int, [*bitstring]))\n",
    "    ## COST FUNCTION DEFINITION (Ising Hamiltonian)\n",
    "    # First term to ensure that only one color is assigned to every vertex\n",
    "    cost_fun = sum(\n",
    "        (1 - sum(bits[i * nvertices + v] for i in range(ncolors))) ** 2\n",
    "        for v in range(nvertices)\n",
    "    )\n",
    "\n",
    "    # Second term to ensure that no two adjacent vertices have the same color\n",
    "    cost_fun += (sum(sum(bits[i * nvertices + e[0]] * bits[i * nvertices + e[1]] for i in range(ncolors)) for e in edges))\n",
    "\n",
    "    if cost_fun == 0:\n",
    "        ngs.append(comp_basis)\n",
    "        print(f\"{bitstring} is a True solution.\\n\")"
   ]
  },
  {
   "cell_type": "markdown",
   "metadata": {},
   "source": [
    "## Cost function Operator\n",
    "\n",
    "Now, we have to define the **quantum hamiltonian operator** which acts as the **cost function** regarding in what was explained in the theory."
   ]
  },
  {
   "cell_type": "code",
   "execution_count": 4,
   "metadata": {},
   "outputs": [],
   "source": [
    "from qiskit.quantum_info import Pauli, SparsePauliOp\n",
    "\n",
    "def qham_cf(edges, num_nodes, num_colors):\n",
    "    \"\"\"Generate Hamiltonian for the graph coloring problem.\n",
    "\n",
    "    Args:\n",
    "        edges: List of edges.\n",
    "        num_nodes: Number of nodes.\n",
    "        num_colors: Number of colors.\n",
    "\n",
    "    Returns:\n",
    "        Operator for the Hamiltonian\n",
    "        A constant shift for the obj function.\n",
    "    \"\"\"\n",
    "    pauli_list = []\n",
    "    coeffs = []\n",
    "\n",
    "    # Constraint that each node has exactly one color\n",
    "    for i in range(num_nodes):\n",
    "        for color in range(num_colors):\n",
    "            x_p = np.zeros(num_nodes * num_colors, dtype=bool)\n",
    "            z_p = np.zeros(num_nodes * num_colors, dtype=bool)\n",
    "            z_p[i * num_colors + color] = True\n",
    "            pauli_list.append(Pauli((z_p, x_p)))\n",
    "            coeffs.append(-1)\n",
    "\n",
    "        for color1 in range(num_colors):\n",
    "            for color2 in range(color1 + 1, num_colors):\n",
    "                x_p = np.zeros(num_nodes * num_colors, dtype=bool)\n",
    "                z_p = np.zeros(num_nodes * num_colors, dtype=bool)\n",
    "                z_p[i * num_colors + color1] = True\n",
    "                z_p[i * num_colors + color2] = True\n",
    "                pauli_list.append(Pauli((z_p, x_p)))\n",
    "                coeffs.append(2)\n",
    "\n",
    "    # Constraint that adjacent nodes have different colors\n",
    "    for i, j in edges:\n",
    "        for color in range(num_colors):\n",
    "            x_p = np.zeros(num_nodes * num_colors, dtype=bool)\n",
    "            z_p = np.zeros(num_nodes * num_colors, dtype=bool)\n",
    "            z_p[i * num_colors + color] = True\n",
    "            z_p[j * num_colors + color] = True\n",
    "            pauli_list.append(Pauli((z_p, x_p)))\n",
    "            coeffs.append(1)\n",
    "\n",
    "    return SparsePauliOp(pauli_list, coeffs=coeffs)\n",
    "\n",
    "qubit_op = qham_cf(edges, nvertices, ncolors)"
   ]
  },
  {
   "cell_type": "markdown",
   "metadata": {},
   "source": [
    "## QAOA Execution\n",
    "\n",
    "The basic scheme is based on the `qiskit` example on the [MaxCut problem](https://github.com/qiskit-community/qiskit-algorithms/blob/stable/0.2/docs/tutorials/05_qaoa.ipynb)."
   ]
  },
  {
   "cell_type": "code",
   "execution_count": 5,
   "metadata": {},
   "outputs": [],
   "source": [
    "from qiskit.primitives import Sampler\n",
    "from qiskit.result import QuasiDistribution\n",
    "from qiskit_algorithms import QAOA\n",
    "from qiskit_algorithms.optimizers import COBYLA\n",
    "from qiskit_algorithms.utils import algorithm_globals\n",
    "\n",
    "sampler = Sampler()\n",
    "\n",
    "\n",
    "def sample_most_likely(state_vector):\n",
    "    \"\"\"Compute the most likely binary string from state vector.\n",
    "    Args:\n",
    "        state_vector: State vector or quasi-distribution.\n",
    "\n",
    "    Returns:\n",
    "        Binary string as an array of ints.\n",
    "    \"\"\"\n",
    "    if isinstance(state_vector, QuasiDistribution):\n",
    "        values = list(state_vector.values())\n",
    "    else:\n",
    "        values = state_vector\n",
    "    n = int(np.log2(len(values)))\n",
    "    k = np.argmax(np.abs(values))\n",
    "    x = [int(digit) for digit in np.binary_repr(k, n)] # [2:] to chop off the \"0b\" part\n",
    "    x.reverse()\n",
    "    return np.asarray(x)\n",
    "\n",
    "algorithm_globals.random_seed = 10598\n",
    "\n",
    "optimizer = COBYLA()\n",
    "qaoa = QAOA(sampler, optimizer, reps=2)\n",
    "\n",
    "result = qaoa.compute_minimum_eigenvalue(qubit_op)"
   ]
  },
  {
   "cell_type": "markdown",
   "metadata": {},
   "source": [
    "Finally, we exctract and print important quantities, which are the vector which is the **most likely to measure**, and the **overlap** of the correct solutions that we now by brute force with the state found.\n",
    "It is important as it has degenerate solutions."
   ]
  },
  {
   "cell_type": "code",
   "execution_count": 6,
   "metadata": {},
   "outputs": [
    {
     "name": "stdout",
     "output_type": "stream",
     "text": [
      "Overlap with correct solutions: \t 0.6364257060375048\n",
      "The most likely eigenvector: \t [0 1 1 0]\n"
     ]
    }
   ],
   "source": [
    "eigenvects = result.eigenstate\n",
    "\n",
    "# Compute overlap of correct solution using the ngs list\n",
    "# as they are the keys of the correct solutions eigenvectors\n",
    "overlap = 0\n",
    "for i in ngs:\n",
    "    overlap += abs(eigenvects[i])\n",
    "print(f\"Overlap with correct solutions: \\t {overlap}\")  # The closer to 1 the better\n",
    "\n",
    "print('The most likely eigenvector: \\t', sample_most_likely(eigenvects))"
   ]
  },
  {
   "cell_type": "markdown",
   "metadata": {},
   "source": [
    "# Solving with the Grover's algorithm\n",
    "\n",
    "Based on this [example](https://medium.com/@shoaib6174/how-to-solve-the-graph-coloring-problems-using-qiskits-grover-algorithm-e87eb52f203)"
   ]
  }
 ],
 "metadata": {
  "kernelspec": {
   "display_name": "Python 3",
   "language": "python",
   "name": "python3"
  },
  "language_info": {
   "codemirror_mode": {
    "name": "ipython",
    "version": 3
   },
   "file_extension": ".py",
   "mimetype": "text/x-python",
   "name": "python",
   "nbconvert_exporter": "python",
   "pygments_lexer": "ipython3",
   "version": "3.10.10"
  }
 },
 "nbformat": 4,
 "nbformat_minor": 2
}

{
 "cells": [
  {
   "cell_type": "code",
   "execution_count": 1,
   "metadata": {},
   "outputs": [],
   "source": [
    "import numpy as np\n",
    "import networkx as nx\n",
    "import matplotlib.pyplot as plt\n",
    "from qiskit.quantum_info import Pauli, SparsePauliOp\n",
    "from qiskit.primitives import Sampler\n",
    "from qiskit.result import QuasiDistribution\n",
    "\n",
    "from qiskit_algorithms import QAOA\n",
    "from qiskit_algorithms.optimizers import COBYLA\n",
    "\n",
    "from qiskit_algorithms.utils import algorithm_globals"
   ]
  },
  {
   "cell_type": "code",
   "execution_count": 2,
   "metadata": {},
   "outputs": [],
   "source": [
    "# PROBLEM DEFINITION\n",
    "# 2 vertices\n",
    "nvertices = 2\n",
    "colors = ['red', 'blue']\n",
    "edges = [(0, 1)]\n",
    "# 3 vertices\n",
    "# nvertices = 3\n",
    "# colors = ['red', 'blue', 'green']\n",
    "# edges = [(0, 1), (1, 2), (2, 0)]\n",
    "# # 4 vertices\n",
    "# nvertices = 4\n",
    "# colors = ['red', 'blue', 'green', 'yellow']\n",
    "# edges = [(0, 1), (1, 2), (2, 3), (3, 0), (0, 2)]"
   ]
  },
  {
   "cell_type": "code",
   "execution_count": 3,
   "metadata": {},
   "outputs": [
    {
     "data": {
      "image/png": "[encoded data removed]",
      "text/plain": [
       "<Figure size 640x480 with 1 Axes>"
      ]
     },
     "metadata": {},
     "output_type": "display_data"
    }
   ],
   "source": [
    "# GRAPH VISUALIZATION\n",
    "G = nx.Graph()              # Create a graph\n",
    "G.add_edges_from(edges)     # Add edges to the graph\n",
    "# Assign colors to nodes\n",
    "ncolors = len(colors)\n",
    "node_colors = [colors[i % ncolors] for i in range(nvertices)]\n",
    "# Plot the graph\n",
    "nx.draw(G, with_labels=False, node_color=node_colors)\n",
    "plt.show()"
   ]
  },
  {
   "cell_type": "code",
   "execution_count": 4,
   "metadata": {},
   "outputs": [
    {
     "name": "stdout",
     "output_type": "stream",
     "text": [
      "0110 is a True solution.\n",
      "\n",
      "1001 is a True solution.\n",
      "\n"
     ]
    }
   ],
   "source": [
    "\n",
    "# BRUTE FORCE TO SOLVE GCP\n",
    "nqubits = nvertices * ncolors\n",
    "\n",
    "# Initial state\n",
    "initial_state = np.ones(2**nqubits) / np.sqrt(2**nqubits)\n",
    "\n",
    "# Number of gs vectors\n",
    "ngs = 0\n",
    "# Create the vector to embed the gs\n",
    "gs_vectors = []\n",
    "for comp_basis in range(2 ** nqubits):\n",
    "    bitstring = \"{0:0{nbits}b}\".format(comp_basis, nbits=nqubits)\n",
    "    bits = list(map(int, [*bitstring]))\n",
    "    # Cost function\n",
    "    # First term to ensure that only one color is assigned to every vertex\n",
    "    cost_fun = sum(\n",
    "        (1 - sum(bits[i * nvertices + v] for i in range(ncolors))) ** 2\n",
    "        for v in range(nvertices)\n",
    "    )\n",
    "\n",
    "    # Second term to ensure that no two adjacent vertices have the same color\n",
    "    cost_fun += (sum(sum(bits[i * nvertices + e[0]] * bits[i * nvertices + e[1]] for i in range(ncolors)) for e in edges))\n",
    "\n",
    "    solution = False\n",
    "    if cost_fun == 0:\n",
    "        ngs += 1\n",
    "        solution = True\n",
    "        # Create the vector to embed the gs\n",
    "        vec = np.zeros(2 ** nqubits, dtype=np.complex128)\n",
    "        vec[comp_basis] = 1. + 0.j\n",
    "        # Add the gs vector solution\n",
    "        gs_vectors.append(vec)\n",
    "        print(f\"{bitstring} is a {solution} solution.\\n\")\n",
    "\n",
    "def bitfield(n, L):\n",
    "    result = np.binary_repr(n, L)\n",
    "    return [int(digit) for digit in result]  # [2:] to chop off the \"0b\" part\n"
   ]
  },
  {
   "cell_type": "code",
   "execution_count": 5,
   "metadata": {},
   "outputs": [],
   "source": [
    "# QAOA EXECUTION\n",
    "\n",
    "def get_operator(edges, num_nodes, num_colors):\n",
    "    \"\"\"Generate Hamiltonian for the graph coloring problem.\n",
    "\n",
    "    Args:\n",
    "        edges: List of edges.\n",
    "        num_nodes: Number of nodes.\n",
    "        num_colors: Number of colors.\n",
    "\n",
    "    Returns:\n",
    "        Operator for the Hamiltonian\n",
    "        A constant shift for the obj function.\n",
    "    \"\"\"\n",
    "    pauli_list = []\n",
    "    coeffs = []\n",
    "    shift = 0\n",
    "\n",
    "    # Constraint that each node has exactly one color\n",
    "    for i in range(num_nodes):\n",
    "        for color in range(num_colors):\n",
    "            x_p = np.zeros(num_nodes * num_colors, dtype=bool)\n",
    "            z_p = np.zeros(num_nodes * num_colors, dtype=bool)\n",
    "            z_p[i * num_colors + color] = True\n",
    "            pauli_list.append(Pauli((z_p, x_p)))\n",
    "            coeffs.append(-1)\n",
    "            shift += 1\n",
    "\n",
    "        for color1 in range(num_colors):\n",
    "            for color2 in range(color1 + 1, num_colors):\n",
    "                x_p = np.zeros(num_nodes * num_colors, dtype=bool)\n",
    "                z_p = np.zeros(num_nodes * num_colors, dtype=bool)\n",
    "                z_p[i * num_colors + color1] = True\n",
    "                z_p[i * num_colors + color2] = True\n",
    "                pauli_list.append(Pauli((z_p, x_p)))\n",
    "                coeffs.append(2)\n",
    "\n",
    "    # Constraint that adjacent nodes have different colors\n",
    "    for i, j in edges:\n",
    "        for color in range(num_colors):\n",
    "            x_p = np.zeros(num_nodes * num_colors, dtype=bool)\n",
    "            z_p = np.zeros(num_nodes * num_colors, dtype=bool)\n",
    "            z_p[i * num_colors + color] = True\n",
    "            z_p[j * num_colors + color] = True\n",
    "            pauli_list.append(Pauli((z_p, x_p)))\n",
    "            coeffs.append(1)\n",
    "\n",
    "    return SparsePauliOp(pauli_list, coeffs=coeffs), shift\n",
    "\n",
    "qubit_op, offset = get_operator(edges, nvertices, ncolors)"
   ]
  },
  {
   "cell_type": "code",
   "execution_count": 6,
   "metadata": {},
   "outputs": [
    {
     "name": "stdout",
     "output_type": "stream",
     "text": [
      "[0 1 1 0]\n"
     ]
    }
   ],
   "source": [
    "\n",
    "sampler = Sampler()\n",
    "\n",
    "def sample_most_likely(state_vector):\n",
    "    \"\"\"Compute the most likely binary string from state vector.\n",
    "    Args:\n",
    "        state_vector: State vector or quasi-distribution.\n",
    "\n",
    "    Returns:\n",
    "        Binary string as an array of ints.\n",
    "    \"\"\"\n",
    "    if isinstance(state_vector, QuasiDistribution):\n",
    "        values = list(state_vector.values())\n",
    "    else:\n",
    "        values = state_vector\n",
    "    n = int(np.log2(len(values)))\n",
    "    k = np.argmax(np.abs(values))\n",
    "    x = bitfield(k, n)\n",
    "    x.reverse()\n",
    "    return np.asarray(x)\n",
    "\n",
    "algorithm_globals.random_seed = 10598\n",
    "\n",
    "optimizer = COBYLA()\n",
    "qaoa = QAOA(sampler, optimizer, reps=2)\n",
    "\n",
    "result = qaoa.compute_minimum_eigenvalue(qubit_op)\n",
    "\n",
    "x = sample_most_likely(result.eigenstate)\n",
    "\n",
    "print(x)\n",
    "#print(f'Objective value computed by QAOA is {objective_value(x, w)}')"
   ]
  }
 ],
 "metadata": {
  "kernelspec": {
   "display_name": "Python 3",
   "language": "python",
   "name": "python3"
  },
  "language_info": {
   "codemirror_mode": {
    "name": "ipython",
    "version": 3
   },
   "file_extension": ".py",
   "mimetype": "text/x-python",
   "name": "python",
   "nbconvert_exporter": "python",
   "pygments_lexer": "ipython3",
   "version": "3.10.10"
  }
 },
 "nbformat": 4,
 "nbformat_minor": 2
}
